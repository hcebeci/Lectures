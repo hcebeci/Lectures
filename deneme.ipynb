{
 "cells": [
  {
   "cell_type": "code",
   "execution_count": 23,
   "metadata": {},
   "outputs": [
    {
     "name": "stdout",
     "output_type": "stream",
     "text": [
      "{0: [0, 3, 1, 2], 1: [5, 4], 2: [7, 6, 8]}\n",
      "3\n",
      "{0: [0, 1, 2, 3], 1: [4, 5], 2: [6, 7, 8]}\n"
     ]
    }
   ],
   "source": [
    "set = {}\n",
    "set[0] = [0,3,1,2]\n",
    "set[1] = [5,4]\n",
    "set[2] = [7,6,8]\n",
    "print(set)\n",
    "print(set[0][1])\n",
    "sorted_set = {}\n",
    "for x in range(len(set)):\n",
    "    sorted_set[x] = sorted(set[x])\n",
    "\n",
    "print(sorted_set)"
   ]
  },
  {
   "cell_type": "code",
   "execution_count": 32,
   "metadata": {},
   "outputs": [
    {
     "name": "stdout",
     "output_type": "stream",
     "text": [
      "{0: [15, 29, 11], 1: [15, 14, 25], 2: [27, 10, 28], 3: [10, 19, 15], 4: [20, 24, 30], 5: [11, 18, 13], 6: [19, 16, 19], 7: [28, 19, 29], 8: [26, 15, 10], 9: [30, 19, 18], 10: [20, 10, 37, 24], 11: [28, 23, 24, 37], 12: [23, 20, 15, 23], 13: [27, 21, 18, 14], 14: [29, 11, 35, 10], 15: [31, 37, 13, 11], 16: [14, 27, 22, 28], 17: [13, 10, 16, 20], 18: [40, 10, 23, 38], 19: [11, 13, 30, 24], 20: [45, 34, 27, 49, 11], 21: [32, 16, 16, 46, 23], 22: [23, 29, 23, 33, 48], 23: [35, 25, 36, 14, 49], 24: [12, 14, 15, 12, 21], 25: [27, 24, 22, 25, 50], 26: [38, 39, 44, 25, 20], 27: [50, 32, 50, 13, 47], 28: [11, 20, 35, 45, 43], 29: [44, 31, 32, 30, 29], 30: [40, 28, 11, 52, 40, 36], 31: [22, 45, 14, 15, 60, 43], 32: [17, 56, 20, 22, 53, 45], 33: [13, 33, 16, 23, 20, 53], 34: [30, 22, 38, 11, 58, 46], 35: [41, 50, 42, 57, 55, 28], 36: [27, 46, 15, 51, 51, 23], 37: [14, 41, 25, 30, 34, 51], 38: [20, 20, 53, 49, 18, 10], 39: [17, 41, 26, 27, 29, 18]}\n"
     ]
    }
   ],
   "source": [
    "set = {}\n",
    "import random\n",
    "n = [3,4,5,6]\n",
    "for x in range(len(n)):\n",
    "    for i in range(10):\n",
    "        list = []\n",
    "        for l in range(n[x]):\n",
    "            list.append(random.randint(10,n[x]*10))\n",
    "        set[(x*10)+i] = list\n",
    "\n",
    "print(set)\n"
   ]
  },
  {
   "cell_type": "code",
   "execution_count": 48,
   "metadata": {},
   "outputs": [
    {
     "name": "stdout",
     "output_type": "stream",
     "text": [
      "([93, 112, 196, 25, 17, 142, 157, 122, 107, 44, 38, 159, 162, 167, 180, 35, 49, 99, 81, 70], [14])\n",
      "Time:  0.062887200001569\n"
     ]
    }
   ],
   "source": [
    "import timeit\n",
    "\n",
    "start = timeit.default_timer()\n",
    "\n",
    "import random\n",
    "def var_generator(n):\n",
    "    list = []\n",
    "    rint = []\n",
    "    rint.append(random.randint(0,n-1))\n",
    "    for i in range(n):\n",
    "        list.append(random.randint(10,n*10))\n",
    "    return list, rint\n",
    "    \n",
    "a = var_generator(20)\n",
    "print(a)\n",
    "\n",
    "stop = timeit.default_timer()\n",
    "\n",
    "print('Time: ', stop - start) \n",
    "\n",
    "\n"
   ]
  },
  {
   "cell_type": "code",
   "execution_count": 50,
   "metadata": {},
   "outputs": [
    {
     "name": "stdout",
     "output_type": "stream",
     "text": [
      "-1\n"
     ]
    }
   ],
   "source": [
    "def uns_iterative1(n):\n",
    "    time = []\n",
    "    import random\n",
    "    import timeit    \n",
    "    for i in range(10):\n",
    "        start = timeit.default_timer()\n",
    "        def var_generator(n):\n",
    "            list = []\n",
    "            rint = []\n",
    "            rint.append(random.randint(0,n-1))\n",
    "            for i in range(n):\n",
    "                list.append(random.randint(10,n*10))\n",
    "            return list, rint\n",
    "        temp = (var_generator(n))\n",
    "        arr = temp[0]\n",
    "        x = temp[1]\n",
    "        index = 0\n",
    "        for y in arr:\n",
    "            if y == x:\n",
    "                stop = timeit.default_timer()\n",
    "                break\n",
    "            index += 1\n",
    "        stop = timeit.default_timer()\n",
    "        time = start - stop\n",
    "\n",
    "print(uns_iterative1(100))\n"
   ]
  },
  {
   "cell_type": "code",
   "execution_count": 69,
   "metadata": {},
   "outputs": [
    {
     "name": "stdout",
     "output_type": "stream",
     "text": [
      "0.000474709999980405\n"
     ]
    }
   ],
   "source": [
    "def uns_iterative1(n):\n",
    "    import timeit\n",
    "    start = timeit.default_timer()\n",
    "    import random\n",
    "    def var_generator(n):\n",
    "        list = []\n",
    "        rint = []\n",
    "        rint.append(random.randint(0,n-1))\n",
    "        for i in range(n):\n",
    "            list.append(random.randint(10,n*10))\n",
    "        return list, rint\n",
    "    temp = (var_generator(n))\n",
    "    arr = temp[0]\n",
    "    x = temp[1]\n",
    "    index = 0\n",
    "    for y in arr:\n",
    "        if y == x:\n",
    "            stop = timeit.default_timer()\n",
    "            return (stop - start)\n",
    "        index += 1\n",
    "    stop = timeit.default_timer()\n",
    "    return (stop - start);\n",
    "avr_time_uns_iterative1 = sum(uns_iterative1(100) for i in range(10)) / 10\n"
   ]
  },
  {
   "cell_type": "code",
   "execution_count": 116,
   "metadata": {},
   "outputs": [
    {
     "name": "stdout",
     "output_type": "stream",
     "text": [
      "0.003570000029867515\n"
     ]
    }
   ],
   "source": [
    "\n",
    "def s_iterative_binary(n):\n",
    "    time = 0\n",
    "    for i in range(10):\n",
    "        start = timeit.default_timer()\n",
    "        def var_generator(n):\n",
    "            list = []\n",
    "            rint = []\n",
    "            rint.append(random.randint(0,n-1))\n",
    "            for i in range(n):\n",
    "                list.append(random.randint(10,n*10))\n",
    "            return list, rint\n",
    "        temp = (var_generator(n))\n",
    "        arr = temp[0]\n",
    "        x = temp[1]    \n",
    "        low = 0\n",
    "        high = len(arr) - 1\n",
    "        mid = 0\n",
    "        while low <= high:\n",
    "            mid = (high + low) // 2\n",
    "            if arr[mid] < x[0]:\n",
    "                low = mid + 1\n",
    "            elif arr[mid] > x[0]:\n",
    "                high = mid - 1\n",
    "            else:\n",
    "                stop = timeit.default_timer()\n",
    "        stop = timeit.default_timer()\n",
    "        time = time + stop - start\n",
    "    return time\n",
    "\n",
    "print(s_iterative_binary(100))"
   ]
  },
  {
   "cell_type": "code",
   "execution_count": 88,
   "metadata": {},
   "outputs": [
    {
     "name": "stdout",
     "output_type": "stream",
     "text": [
      "0.006311899996944703\n"
     ]
    }
   ],
   "source": [
    "def s_iterative_binary(n):\n",
    "    time = 0\n",
    "    start = timeit.default_timer()\n",
    "    for i in range(10):\n",
    "        def var_generator(n):\n",
    "            list = []\n",
    "            rint = []\n",
    "            rint.append(random.randint(0,n-1))\n",
    "            for i in range(n):\n",
    "                list.append(random.randint(10,n*10))\n",
    "            return list, rint\n",
    "        temp = (var_generator(n))\n",
    "        arr = temp[0]\n",
    "        x = temp[1]    \n",
    "        low = 0\n",
    "        high = len(arr) - 1\n",
    "        mid = 0\n",
    "        while low <= high:\n",
    "            mid = (high + low) // 2\n",
    "            if arr[mid] < x[0]:\n",
    "                low = mid + 1\n",
    "            elif arr[mid] > x[0]:\n",
    "                high = mid - 1\n",
    "            else:\n",
    "                continue\n",
    "        continue\n",
    "    stop = timeit.default_timer() \n",
    "    time = stop - start\n",
    "    return time\n",
    "\n",
    "print(s_iterative_binary(100))"
   ]
  },
  {
   "cell_type": "code",
   "execution_count": 125,
   "metadata": {},
   "outputs": [
    {
     "name": "stdout",
     "output_type": "stream",
     "text": [
      "([18, 19, 22, 24, 46], [4])\n",
      "5.399982910603285e-06\n",
      "([18, 28, 34, 41, 45], [1])\n",
      "7.399998139590025e-06\n",
      "([24, 29, 30, 38, 43], [2])\n",
      "9.599985787644982e-06\n",
      "([13, 13, 29, 38, 39], [4])\n",
      "1.1299969628453255e-05\n",
      "([18, 22, 34, 39, 50], [4])\n",
      "1.2899981811642647e-05\n",
      "([14, 27, 40, 42, 45], [4])\n",
      "1.4499993994832039e-05\n",
      "([15, 25, 35, 38, 41], [2])\n",
      "1.6399979358538985e-05\n",
      "([10, 31, 42, 45, 49], [3])\n",
      "1.829999382607639e-05\n",
      "([28, 32, 38, 40, 49], [4])\n",
      "2.0199979189783335e-05\n",
      "([18, 21, 23, 36, 40], [0])\n",
      "2.1899963030591607e-05\n",
      "([11, 14, 14, 17, 35, 56], [3])\n",
      "2.3599975975230336e-05\n",
      "([15, 44, 45, 45, 48, 48], [2])\n",
      "2.489995677024126e-05\n",
      "([22, 22, 27, 31, 51, 59], [0])\n",
      "2.5999965146183968e-05\n",
      "([10, 34, 37, 37, 43, 51], [2])\n",
      "2.9099959647282958e-05\n",
      "([14, 19, 23, 33, 42, 55], [0])\n",
      "3.179998020641506e-05\n",
      "([10, 26, 45, 45, 50, 55], [1])\n",
      "3.510000533424318e-05\n",
      "([10, 14, 17, 23, 26, 50], [5])\n",
      "3.7299992982298136e-05\n",
      "([12, 22, 31, 34, 43, 53], [2])\n",
      "3.899997682310641e-05\n",
      "([21, 38, 46, 48, 51, 51], [4])\n",
      "4.079996142536402e-05\n",
      "([15, 21, 24, 34, 39, 40], [4])\n",
      "4.259994602762163e-05\n",
      "([33, 34, 44, 52, 55, 57, 61], [6])\n",
      "4.449996049515903e-05\n",
      "([13, 20, 25, 35, 48, 57, 63], [3])\n",
      "4.619997343979776e-05\n",
      "([27, 27, 33, 39, 59, 60, 68], [1])\n",
      "4.7399953473359346e-05\n",
      "([19, 31, 33, 36, 44, 46, 53], [5])\n",
      "4.8499961849302053e-05\n",
      "([29, 45, 49, 53, 57, 63, 69], [0])\n",
      "4.959997022524476e-05\n",
      "([10, 13, 21, 28, 29, 33, 46], [5])\n",
      "5.0799979362636805e-05\n",
      "([19, 25, 26, 47, 59, 61, 68], [2])\n",
      "5.169998621568084e-05\n",
      "([11, 28, 30, 41, 50, 58, 61], [4])\n",
      "5.3800002206116915e-05\n",
      "([24, 25, 26, 34, 45, 61, 66], [4])\n",
      "5.5199983762577176e-05\n",
      "([13, 15, 22, 22, 45, 47, 62], [0])\n",
      "5.759997293353081e-05\n"
     ]
    }
   ],
   "source": [
    "n = [5,6,7]\n",
    "time5 = 0\n",
    "for sayi in range(len(n)):\n",
    "    for i in range(10):\n",
    "        def var_generator(n):\n",
    "            list = []\n",
    "            rint = []\n",
    "            rint.append(random.randint(0,n-1))\n",
    "            for i in range(n):\n",
    "                list.append(random.randint(10,n*10))\n",
    "            return sorted(list), rint\n",
    "\n",
    "        temp = var_generator(n[sayi])\n",
    "        print(temp)\n",
    "        arr = temp[0]\n",
    "        x = temp[1]\n",
    "    \n",
    "        start = timeit.default_timer()\n",
    "        def s_iterative_binary(n):\n",
    "            low = 0\n",
    "            high = len(arr) - 1\n",
    "            mid = 0\n",
    "            while low <= high:\n",
    "                mid = (high + low) // 2\n",
    "                if arr[mid] < x[0]:\n",
    "                    low = mid + 1\n",
    "                elif arr[mid] > x[0]:\n",
    "                    high = mid - 1\n",
    "                else:\n",
    "                    mid\n",
    "            return -1\n",
    "        stop = timeit.default_timer()\n",
    "        time5 = time5 + (stop - start)\n",
    "        print(time5)"
   ]
  },
  {
   "cell_type": "code",
   "execution_count": null,
   "metadata": {},
   "outputs": [],
   "source": []
  }
 ],
 "metadata": {
  "interpreter": {
   "hash": "4eaf1be304415beee96765ae99c3f893cc8312c7f1196698e6029668e9aeb3e5"
  },
  "kernelspec": {
   "display_name": "Python 3.7.4 32-bit",
   "language": "python",
   "name": "python3"
  },
  "language_info": {
   "codemirror_mode": {
    "name": "ipython",
    "version": 3
   },
   "file_extension": ".py",
   "mimetype": "text/x-python",
   "name": "python",
   "nbconvert_exporter": "python",
   "pygments_lexer": "ipython3",
   "version": "3.7.4"
  },
  "orig_nbformat": 4
 },
 "nbformat": 4,
 "nbformat_minor": 2
}
