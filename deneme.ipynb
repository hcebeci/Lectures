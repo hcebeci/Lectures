{
 "cells": [
  {
   "cell_type": "code",
   "execution_count": 23,
   "metadata": {},
   "outputs": [
    {
     "name": "stdout",
     "output_type": "stream",
     "text": [
      "{0: [0, 3, 1, 2], 1: [5, 4], 2: [7, 6, 8]}\n",
      "3\n",
      "{0: [0, 1, 2, 3], 1: [4, 5], 2: [6, 7, 8]}\n"
     ]
    }
   ],
   "source": [
    "set = {}\n",
    "set[0] = [0,3,1,2]\n",
    "set[1] = [5,4]\n",
    "set[2] = [7,6,8]\n",
    "print(set)\n",
    "print(set[0][1])\n",
    "sorted_set = {}\n",
    "for x in range(len(set)):\n",
    "    sorted_set[x] = sorted(set[x])\n",
    "\n",
    "print(sorted_set)"
   ]
  },
  {
   "cell_type": "code",
   "execution_count": 29,
   "metadata": {},
   "outputs": [
    {
     "name": "stdout",
     "output_type": "stream",
     "text": [
      "{1: [27, 14, 29], 2: [11, 18, 15], 3: [17, 14, 12], 4: [12, 17, 21], 5: [20, 15, 27], 6: [13, 20, 18], 7: [29, 26, 23], 8: [18, 23, 12], 9: [11, 23, 30], 10: [11, 14, 20], 11: [36, 38, 13, 14], 12: [31, 26, 24, 31], 13: [34, 13, 29, 16], 14: [25, 28, 37, 31], 15: [14, 40, 14, 13], 16: [28, 15, 30, 18], 17: [34, 35, 16, 22], 18: [12, 39, 38, 20], 19: [20, 34, 38, 14], 20: [29, 28, 17, 18], 21: [17, 23, 18, 38, 21], 22: [36, 29, 44, 38, 36], 23: [34, 41, 28, 41, 40], 24: [49, 38, 28, 35, 12], 25: [49, 32, 36, 41, 31], 26: [29, 20, 25, 26, 26], 27: [29, 19, 46, 24, 20], 28: [32, 26, 22, 40, 49], 29: [16, 26, 28, 26, 29], 30: [46, 18, 16, 45, 43], 31: [45, 21, 31, 16, 37, 35], 32: [49, 57, 56, 36, 24, 60], 33: [15, 55, 31, 42, 42, 18], 34: [51, 45, 57, 58, 12, 32], 35: [46, 21, 47, 59, 34, 21], 36: [15, 28, 10, 17, 11, 60], 37: [35, 57, 48, 49, 27, 14], 38: [10, 59, 17, 52, 52, 60], 39: [60, 36, 14, 58, 41, 33], 40: [21, 21, 54, 27, 11, 43]}\n"
     ]
    }
   ],
   "source": [
    "set = {}\n",
    "import random\n",
    "n = [3,4,5,6]\n",
    "for x in range(len(n)):\n",
    "    for i in range(1,11):\n",
    "        list = []\n",
    "        for l in range(n[x]):\n",
    "            list.append(random.randint(10,n[x]*10))\n",
    "        set[(x*10)+i] = list\n",
    "\n",
    "print(set)\n"
   ]
  },
  {
   "cell_type": "code",
   "execution_count": null,
   "metadata": {},
   "outputs": [],
   "source": []
  },
  {
   "cell_type": "code",
   "execution_count": null,
   "metadata": {},
   "outputs": [],
   "source": []
  }
 ],
 "metadata": {
  "interpreter": {
   "hash": "4eaf1be304415beee96765ae99c3f893cc8312c7f1196698e6029668e9aeb3e5"
  },
  "kernelspec": {
   "display_name": "Python 3.7.4 32-bit",
   "language": "python",
   "name": "python3"
  },
  "language_info": {
   "codemirror_mode": {
    "name": "ipython",
    "version": 3
   },
   "file_extension": ".py",
   "mimetype": "text/x-python",
   "name": "python",
   "nbconvert_exporter": "python",
   "pygments_lexer": "ipython3",
   "version": "3.7.4"
  },
  "orig_nbformat": 4
 },
 "nbformat": 4,
 "nbformat_minor": 2
}
